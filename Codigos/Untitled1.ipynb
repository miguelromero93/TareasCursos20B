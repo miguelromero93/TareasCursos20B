{
  "nbformat": 4,
  "nbformat_minor": 0,
  "metadata": {
    "colab": {
      "provenance": []
    },
    "kernelspec": {
      "name": "python3",
      "display_name": "Python 3"
    },
    "language_info": {
      "name": "python"
    }
  },
  "cells": [
    {
      "cell_type": "code",
      "execution_count": null,
      "metadata": {
        "id": "qNYbqAS5wT52"
      },
      "outputs": [],
      "source": [
        "import sympy\n",
        "from sympy import*\n",
        "from sympy.vector import*\n",
        "R = CoordSys3D('R')"
      ]
    },
    {
      "cell_type": "code",
      "source": [
        "x, y, z, θ, r, dr, dθ = symbols('x y z θ r dr dθ')\n",
        "e_r = symbols('e_r')\n",
        "e_θ = symbols('e_θ')"
      ],
      "metadata": {
        "id": "De5DSO1U017L"
      },
      "execution_count": null,
      "outputs": []
    },
    {
      "cell_type": "code",
      "source": [
        "f = (-y/(x**2+y**2))*R.i + (x/(x**2+y**2))*R.j"
      ],
      "metadata": {
        "id": "AAlFa7xY2fEs"
      },
      "execution_count": null,
      "outputs": []
    },
    {
      "cell_type": "code",
      "source": [
        "f"
      ],
      "metadata": {
        "colab": {
          "base_uri": "https://localhost:8080/",
          "height": 58
        },
        "id": "wLLWcx6t8MEP",
        "outputId": "89ab28fd-da7c-40f0-f140-7fbceb439253"
      },
      "execution_count": null,
      "outputs": [
        {
          "output_type": "execute_result",
          "data": {
            "text/plain": [
              "(-y/(x**2 + y**2))*R.i + (x/(x**2 + y**2))*R.j"
            ],
            "text/latex": "$\\displaystyle \\left(- \\frac{y}{x^{2} + y^{2}}\\right)\\mathbf{\\hat{i}_{R}} + \\left(\\frac{x}{x^{2} + y^{2}}\\right)\\mathbf{\\hat{j}_{R}}$"
          },
          "metadata": {},
          "execution_count": 5
        }
      ]
    },
    {
      "cell_type": "code",
      "source": [
        "#Se busca pasar pasar de coordenadas cartesianas a polares, asi que definimos nuevas bases para que sea mas comodo el calculo\n",
        "e_r = cos(θ)*R.i + sin(θ)*R.j\n",
        "e_θ = -sin(θ)*R.i + cos(θ)*R.j"
      ],
      "metadata": {
        "id": "faKe3N4UmJmF"
      },
      "execution_count": null,
      "outputs": []
    },
    {
      "cell_type": "code",
      "source": [
        "#Como se define el trabajo W = F⋅dr se calcula el dr\n",
        "dr1 = dr*e_r + r*dθ*e_θ"
      ],
      "metadata": {
        "id": "NnIxlW9an3OH"
      },
      "execution_count": null,
      "outputs": []
    },
    {
      "cell_type": "code",
      "source": [
        "#Donde r=1 por lo tanto su derivada es cero\n",
        "dr2 = r*dθ*(-sin(θ)*R.i + cos(θ)*R.j)"
      ],
      "metadata": {
        "id": "87yJw5LHpdiU"
      },
      "execution_count": null,
      "outputs": []
    },
    {
      "cell_type": "code",
      "source": [
        "#Al hacer el producto punto entre la funcion y el dr obtenemos:\n",
        "g = ((-sin(θ)/r)*R.i + (cos(θ)/r)*R.j).dot(dr2)"
      ],
      "metadata": {
        "id": "ipzQJP7qrVK7"
      },
      "execution_count": null,
      "outputs": []
    },
    {
      "cell_type": "code",
      "source": [
        "g"
      ],
      "metadata": {
        "colab": {
          "base_uri": "https://localhost:8080/",
          "height": 39
        },
        "id": "s-pidBg59oP0",
        "outputId": "83b6f314-4bcb-43b3-d3e1-3163a6e9234e"
      },
      "execution_count": null,
      "outputs": [
        {
          "output_type": "execute_result",
          "data": {
            "text/plain": [
              "dθ*sin(θ)**2 + dθ*cos(θ)**2"
            ],
            "text/latex": "$\\displaystyle dθ \\sin^{2}{\\left(θ \\right)} + dθ \\cos^{2}{\\left(θ \\right)}$"
          },
          "metadata": {},
          "execution_count": 10
        }
      ]
    },
    {
      "cell_type": "code",
      "source": [
        "from google.colab import drive\n",
        "drive.mount('/content/drive')"
      ],
      "metadata": {
        "id": "NPKyap-YUs6m"
      },
      "execution_count": null,
      "outputs": []
    },
    {
      "cell_type": "code",
      "source": [
        "trigsimp(g)"
      ],
      "metadata": {
        "colab": {
          "base_uri": "https://localhost:8080/",
          "height": 39
        },
        "id": "NpNsUleltzgX",
        "outputId": "953a72a7-07b6-47e4-f387-05198504ac56"
      },
      "execution_count": null,
      "outputs": [
        {
          "output_type": "execute_result",
          "data": {
            "text/plain": [
              "dθ"
            ],
            "text/latex": "$\\displaystyle dθ$"
          },
          "metadata": {},
          "execution_count": 11
        }
      ]
    },
    {
      "cell_type": "code",
      "source": [
        "W = Integral(trigsimp(g), (θ, 0, pi))"
      ],
      "metadata": {
        "id": "HNYd2PF-T8Ej"
      },
      "execution_count": null,
      "outputs": []
    },
    {
      "cell_type": "code",
      "source": [
        "(_).doit()"
      ],
      "metadata": {
        "colab": {
          "base_uri": "https://localhost:8080/",
          "height": 39
        },
        "id": "qJ_NS7aRUR5u",
        "outputId": "2f7822f3-9578-4ada-aad8-9cfcdcd34965"
      },
      "execution_count": null,
      "outputs": [
        {
          "output_type": "execute_result",
          "data": {
            "text/plain": [
              "dθ"
            ],
            "text/latex": "$\\displaystyle dθ$"
          },
          "metadata": {},
          "execution_count": 13
        }
      ]
    },
    {
      "cell_type": "code",
      "source": [
        "#como en el problema piden el trabajo en contra de la fuerza\n",
        "-W.doit()"
      ],
      "metadata": {
        "colab": {
          "base_uri": "https://localhost:8080/",
          "height": 39
        },
        "id": "4Ix8OYV7uBZc",
        "outputId": "f7c0add6-de73-4b28-8fa6-fb0a5c933053"
      },
      "execution_count": null,
      "outputs": [
        {
          "output_type": "execute_result",
          "data": {
            "text/plain": [
              "-pi*dθ"
            ],
            "text/latex": "$\\displaystyle - \\pi dθ$"
          },
          "metadata": {},
          "execution_count": 14
        }
      ]
    },
    {
      "cell_type": "code",
      "source": [
        "w2 = Integral(trigsimp(g),(θ, 0, -pi))"
      ],
      "metadata": {
        "id": "zmPvd5AfUhv5"
      },
      "execution_count": null,
      "outputs": []
    },
    {
      "cell_type": "code",
      "source": [
        "(_).doit()"
      ],
      "metadata": {
        "colab": {
          "base_uri": "https://localhost:8080/",
          "height": 39
        },
        "id": "RE4VvCXNUyZc",
        "outputId": "631bc906-1de9-434a-c8b2-0fd535692a7f"
      },
      "execution_count": null,
      "outputs": [
        {
          "output_type": "execute_result",
          "data": {
            "text/plain": [
              "-pi*dθ"
            ],
            "text/latex": "$\\displaystyle - \\pi dθ$"
          },
          "metadata": {},
          "execution_count": 16
        }
      ]
    },
    {
      "cell_type": "code",
      "source": [
        "#como en el problema piden el trabajo en contra de la fuerza\n",
        "-w2.doit()"
      ],
      "metadata": {
        "id": "9F1hOzimU1ZO",
        "colab": {
          "base_uri": "https://localhost:8080/",
          "height": 39
        },
        "outputId": "a8de0d82-47a8-49e5-a6f5-23e1def6d69b"
      },
      "execution_count": null,
      "outputs": [
        {
          "output_type": "execute_result",
          "data": {
            "text/plain": [
              "pi*dθ"
            ],
            "text/latex": "$\\displaystyle \\pi dθ$"
          },
          "metadata": {},
          "execution_count": 17
        }
      ]
    }
  ]
}