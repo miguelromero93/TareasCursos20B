{
  "cells": [
    {
      "cell_type": "code",
      "execution_count": null,
      "metadata": {
        "id": "IRMAu_0LTE9X"
      },
      "outputs": [],
      "source": [
        "import sympy"
      ]
    },
    {
      "cell_type": "code",
      "execution_count": null,
      "metadata": {
        "id": "BKsn5E8kZ8Xb"
      },
      "outputs": [],
      "source": [
        "from sympy.vector import *"
      ]
    },
    {
      "cell_type": "code",
      "execution_count": null,
      "metadata": {
        "id": "vRdWfXmBTH5P"
      },
      "outputs": [],
      "source": [
        "from sympy import *\n",
        "import matplotlib.pyplot as plt"
      ]
    },
    {
      "cell_type": "code",
      "execution_count": null,
      "metadata": {
        "id": "ufNQZ1oyTMpX"
      },
      "outputs": [],
      "source": [
        "x, y, z, n, a, b, c, d, e, f = symbols('x y z n a b c d e f')"
      ]
    },
    {
      "cell_type": "code",
      "execution_count": null,
      "metadata": {
        "id": "v7IyHaZLTiQa"
      },
      "outputs": [],
      "source": [
        "A = Matrix([[0, 0]])"
      ]
    },
    {
      "cell_type": "code",
      "execution_count": null,
      "metadata": {
        "id": "3q5YlOWYYPKo"
      },
      "outputs": [],
      "source": [
        "B = Matrix([[6, 0]])"
      ]
    },
    {
      "cell_type": "code",
      "execution_count": null,
      "metadata": {
        "id": "9OsTf2rdZTrE"
      },
      "outputs": [],
      "source": [
        "C = Matrix([[3, 3]])"
      ]
    },
    {
      "cell_type": "code",
      "source": [
        "F = Matrix([[a, b]])"
      ],
      "metadata": {
        "id": "G-mu13I-vZCd"
      },
      "execution_count": null,
      "outputs": []
    },
    {
      "cell_type": "code",
      "source": [
        "M = Matrix([[c, d]])"
      ],
      "metadata": {
        "id": "xc0VphypvY18"
      },
      "execution_count": null,
      "outputs": []
    },
    {
      "cell_type": "code",
      "source": [
        "I = Matrix([[e, f]])"
      ],
      "metadata": {
        "id": "v4LIOtHNvYgG"
      },
      "execution_count": null,
      "outputs": []
    },
    {
      "cell_type": "code",
      "source": [
        "G = calcular_centroide(A, B, C)\n"
      ],
      "metadata": {
        "id": "T-bIZz17tk-l"
      },
      "execution_count": null,
      "outputs": []
    },
    {
      "cell_type": "code",
      "source": [
        "#Función para calcular el centroide\n",
        "def calcular_centroide(A, B, C):\n",
        "    A, B, C = Matrix(A), Matrix(B), Matrix(C)\n",
        "    G = (A + B + C) / 3"
      ],
      "metadata": {
        "id": "LoZ26JKssD-3"
      },
      "execution_count": null,
      "outputs": []
    },
    {
      "cell_type": "code",
      "source": [
        "#Funcion para calcular el centroide de forma general\n",
        "def calcular_centroide(F, M, I):\n",
        "  F, M, I = Matrix(F), Matrix(M), Matrix(I)\n",
        "  R = (F + M + I) / 3"
      ],
      "metadata": {
        "id": "6dClXol7wxnl"
      },
      "execution_count": null,
      "outputs": []
    },
    {
      "cell_type": "code",
      "source": [
        "print(G)"
      ],
      "metadata": {
        "colab": {
          "base_uri": "https://localhost:8080/"
        },
        "id": "1b7-mxsc2DA0",
        "outputId": "fb24dfee-0543-486c-cad8-9e84a46b8633"
      },
      "execution_count": null,
      "outputs": [
        {
          "output_type": "stream",
          "name": "stdout",
          "text": [
            "None\n"
          ]
        }
      ]
    },
    {
      "cell_type": "code",
      "source": [
        "#PUNTO 6 DE LA SECCION DE EJERCICIOS 1.2.7\n",
        "a = Matrix([[1, 2, 3]])\n",
        "b = Matrix([[4, 5, 6]])\n",
        "c = Matrix([[3, 2, 1]])\n",
        "d = Matrix([[6, 5, 4]])\n"
      ],
      "metadata": {
        "id": "Byg7KX3X0UiQ"
      },
      "execution_count": null,
      "outputs": []
    },
    {
      "cell_type": "code",
      "source": [
        "#a)Las siguientes sumas: a+b+c+d, a+b−c−d, a−b+c−d y −a+b−c+d."
      ],
      "metadata": {
        "id": "gUJrCKmm52kF"
      },
      "execution_count": null,
      "outputs": []
    },
    {
      "cell_type": "code",
      "source": [
        "a+b+c+d"
      ],
      "metadata": {
        "colab": {
          "base_uri": "https://localhost:8080/",
          "height": 38
        },
        "id": "Rre3eaIg5Srk",
        "outputId": "10edb336-29e2-4778-f884-032f3adcf133"
      },
      "execution_count": null,
      "outputs": [
        {
          "output_type": "execute_result",
          "data": {
            "text/plain": [
              "Matrix([[14, 14, 14]])"
            ],
            "text/latex": "$\\displaystyle \\left[\\begin{matrix}14 & 14 & 14\\end{matrix}\\right]$"
          },
          "metadata": {},
          "execution_count": 201
        }
      ]
    },
    {
      "cell_type": "code",
      "source": [
        "a+b-c-d"
      ],
      "metadata": {
        "colab": {
          "base_uri": "https://localhost:8080/",
          "height": 38
        },
        "id": "r5MlHFCf5xwf",
        "outputId": "d8a138d1-a0fb-4426-cf95-60f02c255104"
      },
      "execution_count": null,
      "outputs": [
        {
          "output_type": "execute_result",
          "data": {
            "text/plain": [
              "Matrix([[-4, 0, 4]])"
            ],
            "text/latex": "$\\displaystyle \\left[\\begin{matrix}-4 & 0 & 4\\end{matrix}\\right]$"
          },
          "metadata": {},
          "execution_count": 203
        }
      ]
    },
    {
      "cell_type": "code",
      "source": [
        "a-b+c-d"
      ],
      "metadata": {
        "colab": {
          "base_uri": "https://localhost:8080/",
          "height": 38
        },
        "id": "VyWt3pyG57gt",
        "outputId": "79432bff-14c2-4ca3-b83c-a1d031fd1c1a"
      },
      "execution_count": null,
      "outputs": [
        {
          "output_type": "execute_result",
          "data": {
            "text/plain": [
              "Matrix([[-6, -6, -6]])"
            ],
            "text/latex": "$\\displaystyle \\left[\\begin{matrix}-6 & -6 & -6\\end{matrix}\\right]$"
          },
          "metadata": {},
          "execution_count": 204
        }
      ]
    },
    {
      "cell_type": "code",
      "source": [
        "-a+b-c+d"
      ],
      "metadata": {
        "colab": {
          "base_uri": "https://localhost:8080/",
          "height": 38
        },
        "id": "akfqUHpq6BeZ",
        "outputId": "913bc299-0083-4a55-9c23-a59943732ccf"
      },
      "execution_count": null,
      "outputs": [
        {
          "output_type": "execute_result",
          "data": {
            "text/plain": [
              "Matrix([[6, 6, 6]])"
            ],
            "text/latex": "$\\displaystyle \\left[\\begin{matrix}6 & 6 & 6\\end{matrix}\\right]$"
          },
          "metadata": {},
          "execution_count": 205
        }
      ]
    },
    {
      "cell_type": "code",
      "source": [
        "#b)El ángulo entre los vectores a,b,c,d y los vectores base ˆ e1,ˆ e2,ˆ e3."
      ],
      "metadata": {
        "id": "pwxqJb9R6EqV"
      },
      "execution_count": null,
      "outputs": []
    },
    {
      "cell_type": "code",
      "source": [
        "def angulo_entre_vectores(a, b):\n",
        "  a, b = Matrix(a), Matrix(b)\n",
        "  x = acos(a.dot(b)/(a.norm()*b.norm()))\n",
        "  return x"
      ],
      "metadata": {
        "id": "-tpWpxcm6JcG"
      },
      "execution_count": null,
      "outputs": []
    },
    {
      "cell_type": "code",
      "source": [
        "x = angulo_entre_vectores(a, b)"
      ],
      "metadata": {
        "id": "jh599XOf60km"
      },
      "execution_count": null,
      "outputs": []
    },
    {
      "cell_type": "code",
      "source": [
        "print(x)"
      ],
      "metadata": {
        "colab": {
          "base_uri": "https://localhost:8080/"
        },
        "id": "25lHNPR67ehQ",
        "outputId": "7b7eb23b-bb34-4f39-a2c2-fe703c70926e"
      },
      "execution_count": null,
      "outputs": [
        {
          "output_type": "stream",
          "name": "stdout",
          "text": [
            "acos(16*sqrt(22)/77)\n"
          ]
        }
      ]
    },
    {
      "cell_type": "code",
      "source": [
        "def angulo_entre_vectores(c, d):\n",
        "  c, d = Matrix(c), Matrix(d)\n",
        "  m = acos(c.dot(d)/(c.norm()*d.norm()))\n",
        "  return m"
      ],
      "metadata": {
        "id": "Nk8WcW-T7rci"
      },
      "execution_count": null,
      "outputs": []
    },
    {
      "cell_type": "code",
      "source": [
        "m = angulo_entre_vectores(c, d)"
      ],
      "metadata": {
        "id": "_e08NE8y74z2"
      },
      "execution_count": null,
      "outputs": []
    },
    {
      "cell_type": "code",
      "source": [
        "print(m)"
      ],
      "metadata": {
        "colab": {
          "base_uri": "https://localhost:8080/"
        },
        "id": "PELfc2uv77h9",
        "outputId": "4d06a142-3809-44fa-82cb-c7acb5ec15fa"
      },
      "execution_count": null,
      "outputs": [
        {
          "output_type": "stream",
          "name": "stdout",
          "text": [
            "acos(16*sqrt(22)/77)\n"
          ]
        }
      ]
    },
    {
      "cell_type": "code",
      "source": [
        "def angulo_entre_vectores(a, c):\n",
        "  a, c = Matrix(a), Matrix(c)\n",
        "  i = acos(a.dot(c)/(a.norm()*c.norm()))\n",
        "  return i"
      ],
      "metadata": {
        "id": "_0ocPsWd7-Ml"
      },
      "execution_count": null,
      "outputs": []
    },
    {
      "cell_type": "code",
      "source": [
        "i = angulo_entre_vectores(a, c)"
      ],
      "metadata": {
        "id": "G2FQL-vq-KV3"
      },
      "execution_count": null,
      "outputs": []
    },
    {
      "cell_type": "code",
      "source": [
        "print(i)"
      ],
      "metadata": {
        "colab": {
          "base_uri": "https://localhost:8080/"
        },
        "id": "Kk28GqUU-N1i",
        "outputId": "20862d03-40c4-43a7-ff8f-5a27e6e2ef1f"
      },
      "execution_count": null,
      "outputs": [
        {
          "output_type": "stream",
          "name": "stdout",
          "text": [
            "acos(5/7)\n"
          ]
        }
      ]
    },
    {
      "cell_type": "code",
      "source": [
        "def angulo_entre_vectores(a, d):\n",
        "  a, d = Matrix(a), Matrix(d)\n",
        "  y = acos(a.dot(d)/(a.norm()*d.norm()))\n",
        "  return y"
      ],
      "metadata": {
        "id": "w-CrA-Dz-PcR"
      },
      "execution_count": null,
      "outputs": []
    },
    {
      "cell_type": "code",
      "source": [
        "y = angulo_entre_vectores(a, d)"
      ],
      "metadata": {
        "id": "SSuqduUT-Uaf"
      },
      "execution_count": null,
      "outputs": []
    },
    {
      "cell_type": "code",
      "source": [
        "print(y)"
      ],
      "metadata": {
        "colab": {
          "base_uri": "https://localhost:8080/"
        },
        "id": "3XddJ9eq-e-I",
        "outputId": "b0f3564f-c0b9-4c4f-9306-0915a850b2f7"
      },
      "execution_count": null,
      "outputs": [
        {
          "output_type": "stream",
          "name": "stdout",
          "text": [
            "acos(2*sqrt(22)/11)\n"
          ]
        }
      ]
    },
    {
      "cell_type": "code",
      "source": [
        "def angulo_entre_vectores(b, c):\n",
        "  b, c = Matrix(b), Matrix(c)\n",
        "  z = acos(b.dot(c)/(b.norm()*c.norm()))\n",
        "  return z"
      ],
      "metadata": {
        "id": "-Q2ZNF1K-gF9"
      },
      "execution_count": null,
      "outputs": []
    },
    {
      "cell_type": "code",
      "source": [
        "z = angulo_entre_vectores(b, c)"
      ],
      "metadata": {
        "id": "wwOwj5FK-u53"
      },
      "execution_count": null,
      "outputs": []
    },
    {
      "cell_type": "code",
      "source": [
        "print(z)"
      ],
      "metadata": {
        "colab": {
          "base_uri": "https://localhost:8080/"
        },
        "id": "iL-MadjE-x10",
        "outputId": "16bdcd94-9721-4076-9ad4-a3a0c6e96a45"
      },
      "execution_count": null,
      "outputs": [
        {
          "output_type": "stream",
          "name": "stdout",
          "text": [
            "acos(2*sqrt(22)/11)\n"
          ]
        }
      ]
    },
    {
      "cell_type": "code",
      "source": [
        "def angulo_entre_vectores(b, d):\n",
        "  b, d = Matrix(b), Matrix(d)\n",
        "  l = acos(b.dot(d)/(b.norm()*d.norm()))\n",
        "  return l"
      ],
      "metadata": {
        "id": "BBeLptZD-zFH"
      },
      "execution_count": null,
      "outputs": []
    },
    {
      "cell_type": "code",
      "source": [
        "l = angulo_entre_vectores(b, d)"
      ],
      "metadata": {
        "id": "14R4-kqX-_03"
      },
      "execution_count": null,
      "outputs": []
    },
    {
      "cell_type": "code",
      "source": [
        "print(l)"
      ],
      "metadata": {
        "colab": {
          "base_uri": "https://localhost:8080/"
        },
        "id": "-sTWe_a7_Fgu",
        "outputId": "dda4c5d7-9a6c-44fb-b7c9-46906a1d33bc"
      },
      "execution_count": null,
      "outputs": [
        {
          "output_type": "stream",
          "name": "stdout",
          "text": [
            "acos(73/77)\n"
          ]
        }
      ]
    },
    {
      "cell_type": "code",
      "source": [
        "α,β,γ, λ = symbols('α β γ λ')"
      ],
      "metadata": {
        "id": "9PgL5aUD_yAr"
      },
      "execution_count": null,
      "outputs": []
    },
    {
      "cell_type": "code",
      "source": [
        "ec1 = Eq(α+0-7/3*γ-10/3*λ, 0)\n",
        "ec2 = Eq(0+β+4/3*γ+7/3*λ, 0)"
      ],
      "metadata": {
        "id": "CxSF4pQA_TdI"
      },
      "execution_count": null,
      "outputs": []
    },
    {
      "cell_type": "code",
      "source": [
        "linsolve([ec1, ec2], (α, β, γ, λ ))"
      ],
      "metadata": {
        "colab": {
          "base_uri": "https://localhost:8080/",
          "height": 39
        },
        "id": "NLX_ZbiUCGIq",
        "outputId": "0a63deda-b30a-4610-b1b6-a142cc61c3b1"
      },
      "execution_count": null,
      "outputs": [
        {
          "output_type": "execute_result",
          "data": {
            "text/plain": [
              "{(2.33333333333333*γ + 3.33333333333333*λ, -1.33333333333333*γ - 2.33333333333333*λ, 1.0*γ, 1.0*λ)}"
            ],
            "text/latex": "$\\displaystyle \\left\\{\\left( 2.33333333333333 γ + 3.33333333333333 λ, \\  - 1.33333333333333 γ - 2.33333333333333 λ, \\  1.0 γ, \\  1.0 λ\\right)\\right\\}$"
          },
          "metadata": {},
          "execution_count": 259
        }
      ]
    },
    {
      "cell_type": "code",
      "source": [
        "#c)la magnitud de los vectores a, b, c, d."
      ],
      "metadata": {
        "id": "2rgsdHAsJGIy"
      },
      "execution_count": null,
      "outputs": []
    },
    {
      "cell_type": "code",
      "source": [
        "from sympy.vector import *"
      ],
      "metadata": {
        "id": "ol5qfnlpKID0"
      },
      "execution_count": null,
      "outputs": []
    },
    {
      "cell_type": "code",
      "source": [
        "from sympy.physics.vector import ReferenceFrame"
      ],
      "metadata": {
        "id": "Xnq8URv3Krdx"
      },
      "execution_count": null,
      "outputs": []
    },
    {
      "cell_type": "code",
      "source": [
        "sqrt(a.dot(a))"
      ],
      "metadata": {
        "colab": {
          "base_uri": "https://localhost:8080/",
          "height": 38
        },
        "id": "s3grmmRfLNXR",
        "outputId": "08f46cb8-4605-4212-bec3-23a6f11034cc"
      },
      "execution_count": null,
      "outputs": [
        {
          "output_type": "execute_result",
          "data": {
            "text/plain": [
              "sqrt(14)"
            ],
            "text/latex": "$\\displaystyle \\sqrt{14}$"
          },
          "metadata": {},
          "execution_count": 268
        }
      ]
    },
    {
      "cell_type": "code",
      "source": [
        "sqrt(b.dot(b))"
      ],
      "metadata": {
        "colab": {
          "base_uri": "https://localhost:8080/",
          "height": 38
        },
        "id": "ij6a_sywLiAD",
        "outputId": "1a67fa42-ae71-48fa-9e7f-790e0c1079da"
      },
      "execution_count": null,
      "outputs": [
        {
          "output_type": "execute_result",
          "data": {
            "text/plain": [
              "sqrt(77)"
            ],
            "text/latex": "$\\displaystyle \\sqrt{77}$"
          },
          "metadata": {},
          "execution_count": 269
        }
      ]
    },
    {
      "cell_type": "code",
      "source": [
        "sqrt(c.dot(c))"
      ],
      "metadata": {
        "colab": {
          "base_uri": "https://localhost:8080/",
          "height": 38
        },
        "id": "Dj2l2FT-LmLg",
        "outputId": "24cb5077-7099-4217-f174-6291b5eabafe"
      },
      "execution_count": null,
      "outputs": [
        {
          "output_type": "execute_result",
          "data": {
            "text/plain": [
              "sqrt(14)"
            ],
            "text/latex": "$\\displaystyle \\sqrt{14}$"
          },
          "metadata": {},
          "execution_count": 270
        }
      ]
    },
    {
      "cell_type": "code",
      "source": [
        "sqrt(d.dot(d))"
      ],
      "metadata": {
        "colab": {
          "base_uri": "https://localhost:8080/",
          "height": 38
        },
        "id": "gBJ2v_E7LrdY",
        "outputId": "ce30cc7b-6d35-4c3c-ab02-e23b0b1c3e84"
      },
      "execution_count": null,
      "outputs": [
        {
          "output_type": "execute_result",
          "data": {
            "text/plain": [
              "sqrt(77)"
            ],
            "text/latex": "$\\displaystyle \\sqrt{77}$"
          },
          "metadata": {},
          "execution_count": 272
        }
      ]
    },
    {
      "cell_type": "code",
      "source": [
        "#d)el angulo entre a y b y entre c y d"
      ],
      "metadata": {
        "id": "KuTxHSZRLttb"
      },
      "execution_count": null,
      "outputs": []
    },
    {
      "cell_type": "code",
      "source": [
        "def angulo_entre_vectores(a, b):\n",
        "  a, b = Matrix(a), Matrix(b)\n",
        "  m = acos(a.dot(b)/(a.norm()*b.norm()))\n",
        "  return m"
      ],
      "metadata": {
        "id": "twcHMULXL2Fk"
      },
      "execution_count": null,
      "outputs": []
    },
    {
      "cell_type": "code",
      "source": [
        "m = angulo_entre_vectores(a, b)"
      ],
      "metadata": {
        "id": "VzP-ZgtwMUK9"
      },
      "execution_count": null,
      "outputs": []
    },
    {
      "cell_type": "code",
      "source": [
        "print(m)"
      ],
      "metadata": {
        "colab": {
          "base_uri": "https://localhost:8080/"
        },
        "id": "lbyINs91MZZE",
        "outputId": "75e9e61d-e7e7-4bb0-8e46-2895c8eef447"
      },
      "execution_count": null,
      "outputs": [
        {
          "output_type": "stream",
          "name": "stdout",
          "text": [
            "acos(16*sqrt(22)/77)\n"
          ]
        }
      ]
    },
    {
      "cell_type": "code",
      "source": [
        "def angulo_entre_vectores(c, d):\n",
        "  c, d = Matrix(c), Matrix(d)\n",
        "  q = acos(c.dot(d)/(c.norm()*d.norm()))\n",
        "  return m"
      ],
      "metadata": {
        "id": "T5V-6yzbMatY"
      },
      "execution_count": null,
      "outputs": []
    },
    {
      "cell_type": "code",
      "source": [
        "q = angulo_entre_vectores(c, d)"
      ],
      "metadata": {
        "id": "YiUkumUgM3Sm"
      },
      "execution_count": null,
      "outputs": []
    },
    {
      "cell_type": "code",
      "source": [
        "print(q)"
      ],
      "metadata": {
        "colab": {
          "base_uri": "https://localhost:8080/"
        },
        "id": "utGJXuEkM6f0",
        "outputId": "0a2d87df-5ac1-4f7f-9ddc-f6c226951eab"
      },
      "execution_count": null,
      "outputs": [
        {
          "output_type": "stream",
          "name": "stdout",
          "text": [
            "acos(16*sqrt(22)/77)\n"
          ]
        }
      ]
    },
    {
      "cell_type": "code",
      "source": [
        "#e)la proyeccion de a sobre b"
      ],
      "metadata": {
        "id": "DW1_isFGNA6x"
      },
      "execution_count": null,
      "outputs": []
    },
    {
      "cell_type": "code",
      "source": [
        "def proyeccion_vectorial(a, b):\n",
        "  a, b = Matrix(a), Matrix(b)\n",
        "  simplify(proy = a.dot(b)/((sqrt(b.dot(b)))**2)*b.normalized)\n",
        "  return proy"
      ],
      "metadata": {
        "id": "MQtvH95xVsAD"
      },
      "execution_count": null,
      "outputs": []
    },
    {
      "cell_type": "code",
      "source": [
        "print(proy)"
      ],
      "metadata": {
        "colab": {
          "base_uri": "https://localhost:8080/"
        },
        "id": "sXQQXRvEWhIX",
        "outputId": "18fd7bd6-c4aa-4040-b089-6948861cdc35"
      },
      "execution_count": null,
      "outputs": [
        {
          "output_type": "stream",
          "name": "stdout",
          "text": [
            "Matrix([[128*sqrt(77)/5929, 160*sqrt(77)/5929, 192*sqrt(77)/5929]])\n"
          ]
        }
      ]
    },
    {
      "cell_type": "code",
      "source": [
        "#f)si  los vectores a, b, c, d son coplanares"
      ],
      "metadata": {
        "id": "-wOmOMUGWmPi"
      },
      "execution_count": null,
      "outputs": []
    },
    {
      "cell_type": "code",
      "source": [
        "def coplanares(a, b, c, d):\n",
        "  a, b, c, d = Matrix(a), Matrix(b), Matrix(c), Matrix(d)\n",
        "  n = (a.cross(b)).dot(c)\n",
        "  return n"
      ],
      "metadata": {
        "id": "19bqir-3XT2g"
      },
      "execution_count": null,
      "outputs": []
    },
    {
      "cell_type": "code",
      "source": [
        "n= coplanares(a, b, c, d)"
      ],
      "metadata": {
        "id": "cfunSuANeQV8"
      },
      "execution_count": null,
      "outputs": []
    },
    {
      "cell_type": "code",
      "source": [
        "print(n)"
      ],
      "metadata": {
        "colab": {
          "base_uri": "https://localhost:8080/"
        },
        "id": "44cLabx_eS1A",
        "outputId": "c4f46ff3-1776-4a4a-edd7-20bef014c590"
      },
      "execution_count": null,
      "outputs": [
        {
          "output_type": "stream",
          "name": "stdout",
          "text": [
            "0\n"
          ]
        }
      ]
    },
    {
      "cell_type": "code",
      "source": [
        "def coplanares(a, b, c, d):\n",
        "  a, b, c, d = Matrix(a), Matrix(b), Matrix(c), Matrix(d)\n",
        "  n = (b.cross(c)).dot(d)\n",
        "  return n"
      ],
      "metadata": {
        "id": "2T_Z6ufIfRZb"
      },
      "execution_count": null,
      "outputs": []
    },
    {
      "cell_type": "code",
      "source": [
        "n= coplanares(a, b, c, d)"
      ],
      "metadata": {
        "id": "A5ldY9vcgGUF"
      },
      "execution_count": null,
      "outputs": []
    },
    {
      "cell_type": "code",
      "source": [
        "print(n)"
      ],
      "metadata": {
        "colab": {
          "base_uri": "https://localhost:8080/"
        },
        "id": "ToWJykR7gJVm",
        "outputId": "9fa5048b-3e00-49f1-c357-3b3b7c50801d"
      },
      "execution_count": null,
      "outputs": [
        {
          "output_type": "stream",
          "name": "stdout",
          "text": [
            "0\n"
          ]
        }
      ]
    },
    {
      "cell_type": "code",
      "source": [
        "#g)encuentre (a+b).(c+d)"
      ],
      "metadata": {
        "id": "wLwoDi9jgLOv"
      },
      "execution_count": null,
      "outputs": []
    },
    {
      "cell_type": "code",
      "source": [
        "(a+b).dot(c+d)"
      ],
      "metadata": {
        "colab": {
          "base_uri": "https://localhost:8080/",
          "height": 37
        },
        "id": "bAYCUnFQgaxV",
        "outputId": "dddd358b-94af-4042-d765-5bdf6ef18cd1"
      },
      "execution_count": null,
      "outputs": [
        {
          "output_type": "execute_result",
          "data": {
            "text/plain": [
              "139"
            ],
            "text/latex": "$\\displaystyle 139$"
          },
          "metadata": {},
          "execution_count": 313
        }
      ]
    },
    {
      "cell_type": "code",
      "source": [
        "#h)Los productos a × b, b ×c, c×d y los ángulos que estos forman con d."
      ],
      "metadata": {
        "id": "HN6E6cJmgfVG"
      },
      "execution_count": null,
      "outputs": []
    },
    {
      "cell_type": "code",
      "source": [
        "L= a.cross(b)"
      ],
      "metadata": {
        "id": "uwWQyUPYgrzm"
      },
      "execution_count": null,
      "outputs": []
    },
    {
      "cell_type": "code",
      "source": [
        "R= b.cross(c)"
      ],
      "metadata": {
        "id": "LmCkT_F9guaA"
      },
      "execution_count": null,
      "outputs": []
    },
    {
      "cell_type": "code",
      "source": [
        "F= c.cross(d)"
      ],
      "metadata": {
        "id": "9iXBxlFTgyaN"
      },
      "execution_count": null,
      "outputs": []
    },
    {
      "cell_type": "code",
      "source": [
        "acos(d.dot(L)/(d.norm()*L.norm()))"
      ],
      "metadata": {
        "colab": {
          "base_uri": "https://localhost:8080/",
          "height": 47
        },
        "id": "rh0xux1sg0oD",
        "outputId": "7e6fc75b-388a-4ca7-a53d-65b2be250359"
      },
      "execution_count": null,
      "outputs": [
        {
          "output_type": "execute_result",
          "data": {
            "text/plain": [
              "pi/2"
            ],
            "text/latex": "$\\displaystyle \\frac{\\pi}{2}$"
          },
          "metadata": {},
          "execution_count": 322
        }
      ]
    },
    {
      "cell_type": "code",
      "source": [
        "acos(d.dot(R)/(d.norm()*R.norm()))"
      ],
      "metadata": {
        "colab": {
          "base_uri": "https://localhost:8080/",
          "height": 47
        },
        "id": "TjHUKzBBhRK4",
        "outputId": "c7dcbc9d-0e13-48ea-b6da-24e64f32629c"
      },
      "execution_count": null,
      "outputs": [
        {
          "output_type": "execute_result",
          "data": {
            "text/plain": [
              "pi/2"
            ],
            "text/latex": "$\\displaystyle \\frac{\\pi}{2}$"
          },
          "metadata": {},
          "execution_count": 323
        }
      ]
    },
    {
      "cell_type": "code",
      "source": [
        "acos(d.dot(F)/(d.norm()*F.norm()))"
      ],
      "metadata": {
        "colab": {
          "base_uri": "https://localhost:8080/",
          "height": 47
        },
        "id": "kvvjCZM7hgpi",
        "outputId": "b1693491-9095-4c66-ae8d-17c3288374f6"
      },
      "execution_count": null,
      "outputs": [
        {
          "output_type": "execute_result",
          "data": {
            "text/plain": [
              "pi/2"
            ],
            "text/latex": "$\\displaystyle \\frac{\\pi}{2}$"
          },
          "metadata": {},
          "execution_count": 324
        }
      ]
    },
    {
      "cell_type": "code",
      "source": [
        "#i)c · (a × b)."
      ],
      "metadata": {
        "id": "NQQNVwdQhlw6"
      },
      "execution_count": null,
      "outputs": []
    },
    {
      "cell_type": "code",
      "source": [
        "(a.cross(b).dot(c))"
      ],
      "metadata": {
        "colab": {
          "base_uri": "https://localhost:8080/",
          "height": 37
        },
        "id": "EzrY_tdchuVd",
        "outputId": "6e662903-5a0b-4cbb-f6b6-a8961c7c8555"
      },
      "execution_count": null,
      "outputs": [
        {
          "output_type": "execute_result",
          "data": {
            "text/plain": [
              "0"
            ],
            "text/latex": "$\\displaystyle 0$"
          },
          "metadata": {},
          "execution_count": 327
        }
      ]
    },
    {
      "cell_type": "code",
      "source": [],
      "metadata": {
        "id": "pL_i-cfoh6Yg"
      },
      "execution_count": null,
      "outputs": []
    }
  ],
  "metadata": {
    "colab": {
      "provenance": []
    },
    "kernelspec": {
      "display_name": "Python 3",
      "name": "python3"
    },
    "language_info": {
      "name": "python"
    }
  },
  "nbformat": 4,
  "nbformat_minor": 0
}